{
 "cells": [
  {
   "cell_type": "code",
   "execution_count": 1,
   "id": "14598c44",
   "metadata": {},
   "outputs": [],
   "source": [
    "import pandas as pd"
   ]
  },
  {
   "cell_type": "code",
   "execution_count": 2,
   "id": "b375fd75",
   "metadata": {},
   "outputs": [],
   "source": [
    "file=pd.read_csv('retail_store_inventory.csv')"
   ]
  },
  {
   "cell_type": "code",
   "execution_count": 3,
   "id": "78dbeaf3",
   "metadata": {},
   "outputs": [
    {
     "data": {
      "text/html": [
       "<div>\n",
       "<style scoped>\n",
       "    .dataframe tbody tr th:only-of-type {\n",
       "        vertical-align: middle;\n",
       "    }\n",
       "\n",
       "    .dataframe tbody tr th {\n",
       "        vertical-align: top;\n",
       "    }\n",
       "\n",
       "    .dataframe thead th {\n",
       "        text-align: right;\n",
       "    }\n",
       "</style>\n",
       "<table border=\"1\" class=\"dataframe\">\n",
       "  <thead>\n",
       "    <tr style=\"text-align: right;\">\n",
       "      <th></th>\n",
       "      <th>Date</th>\n",
       "      <th>Store ID</th>\n",
       "      <th>Product ID</th>\n",
       "      <th>Category</th>\n",
       "      <th>Region</th>\n",
       "      <th>Inventory Level</th>\n",
       "      <th>Units Sold</th>\n",
       "      <th>Units Ordered</th>\n",
       "      <th>Demand Forecast</th>\n",
       "      <th>Price</th>\n",
       "      <th>Discount</th>\n",
       "      <th>Weather Condition</th>\n",
       "      <th>Holiday/Promotion</th>\n",
       "      <th>Competitor Pricing</th>\n",
       "      <th>Seasonality</th>\n",
       "    </tr>\n",
       "  </thead>\n",
       "  <tbody>\n",
       "    <tr>\n",
       "      <th>0</th>\n",
       "      <td>2022-01-01</td>\n",
       "      <td>S001</td>\n",
       "      <td>P0001</td>\n",
       "      <td>Groceries</td>\n",
       "      <td>North</td>\n",
       "      <td>231</td>\n",
       "      <td>127</td>\n",
       "      <td>55</td>\n",
       "      <td>135.47</td>\n",
       "      <td>33.50</td>\n",
       "      <td>20</td>\n",
       "      <td>Rainy</td>\n",
       "      <td>0</td>\n",
       "      <td>29.69</td>\n",
       "      <td>Autumn</td>\n",
       "    </tr>\n",
       "    <tr>\n",
       "      <th>1</th>\n",
       "      <td>2022-01-01</td>\n",
       "      <td>S001</td>\n",
       "      <td>P0002</td>\n",
       "      <td>Toys</td>\n",
       "      <td>South</td>\n",
       "      <td>204</td>\n",
       "      <td>150</td>\n",
       "      <td>66</td>\n",
       "      <td>144.04</td>\n",
       "      <td>63.01</td>\n",
       "      <td>20</td>\n",
       "      <td>Sunny</td>\n",
       "      <td>0</td>\n",
       "      <td>66.16</td>\n",
       "      <td>Autumn</td>\n",
       "    </tr>\n",
       "    <tr>\n",
       "      <th>2</th>\n",
       "      <td>2022-01-01</td>\n",
       "      <td>S001</td>\n",
       "      <td>P0003</td>\n",
       "      <td>Toys</td>\n",
       "      <td>West</td>\n",
       "      <td>102</td>\n",
       "      <td>65</td>\n",
       "      <td>51</td>\n",
       "      <td>74.02</td>\n",
       "      <td>27.99</td>\n",
       "      <td>10</td>\n",
       "      <td>Sunny</td>\n",
       "      <td>1</td>\n",
       "      <td>31.32</td>\n",
       "      <td>Summer</td>\n",
       "    </tr>\n",
       "    <tr>\n",
       "      <th>3</th>\n",
       "      <td>2022-01-01</td>\n",
       "      <td>S001</td>\n",
       "      <td>P0004</td>\n",
       "      <td>Toys</td>\n",
       "      <td>North</td>\n",
       "      <td>469</td>\n",
       "      <td>61</td>\n",
       "      <td>164</td>\n",
       "      <td>62.18</td>\n",
       "      <td>32.72</td>\n",
       "      <td>10</td>\n",
       "      <td>Cloudy</td>\n",
       "      <td>1</td>\n",
       "      <td>34.74</td>\n",
       "      <td>Autumn</td>\n",
       "    </tr>\n",
       "    <tr>\n",
       "      <th>4</th>\n",
       "      <td>2022-01-01</td>\n",
       "      <td>S001</td>\n",
       "      <td>P0005</td>\n",
       "      <td>Electronics</td>\n",
       "      <td>East</td>\n",
       "      <td>166</td>\n",
       "      <td>14</td>\n",
       "      <td>135</td>\n",
       "      <td>9.26</td>\n",
       "      <td>73.64</td>\n",
       "      <td>0</td>\n",
       "      <td>Sunny</td>\n",
       "      <td>0</td>\n",
       "      <td>68.95</td>\n",
       "      <td>Summer</td>\n",
       "    </tr>\n",
       "  </tbody>\n",
       "</table>\n",
       "</div>"
      ],
      "text/plain": [
       "         Date Store ID Product ID     Category Region  Inventory Level  \\\n",
       "0  2022-01-01     S001      P0001    Groceries  North              231   \n",
       "1  2022-01-01     S001      P0002         Toys  South              204   \n",
       "2  2022-01-01     S001      P0003         Toys   West              102   \n",
       "3  2022-01-01     S001      P0004         Toys  North              469   \n",
       "4  2022-01-01     S001      P0005  Electronics   East              166   \n",
       "\n",
       "   Units Sold  Units Ordered  Demand Forecast  Price  Discount  \\\n",
       "0         127             55           135.47  33.50        20   \n",
       "1         150             66           144.04  63.01        20   \n",
       "2          65             51            74.02  27.99        10   \n",
       "3          61            164            62.18  32.72        10   \n",
       "4          14            135             9.26  73.64         0   \n",
       "\n",
       "  Weather Condition  Holiday/Promotion  Competitor Pricing Seasonality  \n",
       "0             Rainy                  0               29.69      Autumn  \n",
       "1             Sunny                  0               66.16      Autumn  \n",
       "2             Sunny                  1               31.32      Summer  \n",
       "3            Cloudy                  1               34.74      Autumn  \n",
       "4             Sunny                  0               68.95      Summer  "
      ]
     },
     "execution_count": 3,
     "metadata": {},
     "output_type": "execute_result"
    }
   ],
   "source": [
    "file.head(5)"
   ]
  },
  {
   "cell_type": "code",
   "execution_count": 4,
   "id": "21844248",
   "metadata": {},
   "outputs": [
    {
     "data": {
      "text/plain": [
       "Date                   object\n",
       "Store ID               object\n",
       "Product ID             object\n",
       "Category               object\n",
       "Region                 object\n",
       "Inventory Level         int64\n",
       "Units Sold              int64\n",
       "Units Ordered           int64\n",
       "Demand Forecast       float64\n",
       "Price                 float64\n",
       "Discount                int64\n",
       "Weather Condition      object\n",
       "Holiday/Promotion       int64\n",
       "Competitor Pricing    float64\n",
       "Seasonality            object\n",
       "dtype: object"
      ]
     },
     "execution_count": 4,
     "metadata": {},
     "output_type": "execute_result"
    }
   ],
   "source": [
    "file.dtypes"
   ]
  },
  {
   "cell_type": "code",
   "execution_count": null,
   "id": "de6663a2",
   "metadata": {},
   "outputs": [],
   "source": [
    "file.Date=file.Date.astype('datetime64')\n"
   ]
  },
  {
   "cell_type": "code",
   "execution_count": 9,
   "id": "6a83562b",
   "metadata": {},
   "outputs": [
    {
     "data": {
      "text/plain": [
       "Date                  datetime64[ns]\n",
       "Store ID                      object\n",
       "Product ID                    object\n",
       "Category                      object\n",
       "Region                        object\n",
       "Inventory Level                int64\n",
       "Units Sold                     int64\n",
       "Units Ordered                  int64\n",
       "Demand Forecast              float64\n",
       "Price                        float64\n",
       "Discount                       int64\n",
       "Weather Condition             object\n",
       "Holiday/Promotion              int64\n",
       "Competitor Pricing           float64\n",
       "Seasonality                   object\n",
       "dtype: object"
      ]
     },
     "execution_count": 9,
     "metadata": {},
     "output_type": "execute_result"
    }
   ],
   "source": [
    "file['Store ID']=file['Store ID'].astype('str')\n",
    "file.dtypes"
   ]
  }
 ],
 "metadata": {
  "kernelspec": {
   "display_name": "base",
   "language": "python",
   "name": "python3"
  },
  "language_info": {
   "codemirror_mode": {
    "name": "ipython",
    "version": 3
   },
   "file_extension": ".py",
   "mimetype": "text/x-python",
   "name": "python",
   "nbconvert_exporter": "python",
   "pygments_lexer": "ipython3",
   "version": "3.9.18"
  }
 },
 "nbformat": 4,
 "nbformat_minor": 5
}
